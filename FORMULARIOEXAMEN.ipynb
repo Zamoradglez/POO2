{
 "cells": [
  {
   "cell_type": "code",
   "execution_count": 7,
   "metadata": {},
   "outputs": [],
   "source": [
    "from tkinter import * #Se importa el módulo tkinter\n",
    "from tkinter import ttk #Se importa el submodulo de tkk tkinter\n",
    "window = Tk() #Se crea una ventana de Tkinter\n",
    "window.title(\"LOGIN DE CLIENTES\") #Se agrega el titulo de la ventana\n",
    "window.geometry('1000x1000') #Se ajusta el tamaño de la ventana\n",
    "window.configure(background = \"black\"); #El color del fondo de la ventana \n",
    "a = Label(window ,text = \"Nombre \").grid(row = 0,column = 0) #se crea una etiqueta para el primer nombre. Se coloca en la posición 0,0 de una tabla ímplicita\n",
    "b = Label(window ,text = \"Apellido\").grid(row = 1,column = 0)  #se crea una etiqueta para el segundo nombre. Se coloca en la posición 1,0 de una tabla ímplicita\n",
    "c = Label(window ,text = \"Correo personal\").grid(row = 2,column = 0)  #se crea una etiqueta para el correo. Se coloca en la posición 2,0 de una tabla ímplicita\n",
    "d = Label(window ,text = \"Numero de contacto\").grid(row = 3,column = 0)  #se crea una etiqueta para el primer nombre. Se coloca en la posición 3,0 de una tabla ímplicita\n",
    "a1 = Entry(window).grid(row = 0,column = 1) #se crea el campo de entrada en la posición 0,1 de la tabla\n",
    "b1 = Entry(window).grid(row = 1,column = 1) #se crea el campo de entrada en la posición 1,1 de la tabla\n",
    "c1 = Entry(window).grid(row = 2,column = 1) #se crea el campo de entrada en la posición 2,1 de la tabla\n",
    "d1 = Entry(window).grid(row = 3,column = 1) #se crea el campo de entrada en la posición 3,1 de la tabla\n",
    "def clicked():         #Hace que el boton se pueda clickear. Cuando se presione llama a la funcion\n",
    "   res = \"Welcome to \" + txt.get() #se obtiene el texto de entrada\n",
    "   lbl.configure(text= res) #se configura el texto de la etiqueta \n",
    "btn = ttk.Button(window ,text=\"Submit\").grid(row=4,column=0) #se colocan las características del boton y su posicion\n",
    "window.mainloop() #se ejecuta el bucle de eventos "
   ]
  }
 ],
 "metadata": {
  "kernelspec": {
   "display_name": "Python 3",
   "language": "python",
   "name": "python3"
  },
  "language_info": {
   "codemirror_mode": {
    "name": "ipython",
    "version": 3
   },
   "file_extension": ".py",
   "mimetype": "text/x-python",
   "name": "python",
   "nbconvert_exporter": "python",
   "pygments_lexer": "ipython3",
   "version": "3.11.9"
  }
 },
 "nbformat": 4,
 "nbformat_minor": 2
}
